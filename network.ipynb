{
 "cells": [
  {
   "cell_type": "code",
   "execution_count": 3,
   "metadata": {},
   "outputs": [
    {
     "name": "stdout",
     "output_type": "stream",
     "text": [
      "Collecting pandas\n",
      "  Obtaining dependency information for pandas from https://files.pythonhosted.org/packages/22/a5/a0b255295406ed54269814bc93723cfd1a0da63fb9aaf99e1364f07923e5/pandas-2.2.2-cp312-cp312-win_amd64.whl.metadata\n",
      "  Downloading pandas-2.2.2-cp312-cp312-win_amd64.whl.metadata (19 kB)\n",
      "Collecting numpy>=1.26.0 (from pandas)\n",
      "  Obtaining dependency information for numpy>=1.26.0 from https://files.pythonhosted.org/packages/8c/bf/d9d214a9dff020ad1663f1536f45d34e052e4c7f630c46cd363e785e3231/numpy-2.1.0-cp312-cp312-win_amd64.whl.metadata\n",
      "  Downloading numpy-2.1.0-cp312-cp312-win_amd64.whl.metadata (59 kB)\n",
      "     ---------------------------------------- 0.0/59.7 kB ? eta -:--:--\n",
      "     ---------------------------------------- 0.0/59.7 kB ? eta -:--:--\n",
      "     ------ --------------------------------- 10.2/59.7 kB ? eta -:--:--\n",
      "     ------------------- ------------------ 30.7/59.7 kB 330.3 kB/s eta 0:00:01\n",
      "     -------------------------- ----------- 41.0/59.7 kB 219.4 kB/s eta 0:00:01\n",
      "     -------------------------------- ----- 51.2/59.7 kB 238.1 kB/s eta 0:00:01\n",
      "     -------------------------------------- 59.7/59.7 kB 243.9 kB/s eta 0:00:00\n",
      "Requirement already satisfied: python-dateutil>=2.8.2 in c:\\users\\student\\appdata\\roaming\\python\\python312\\site-packages (from pandas) (2.9.0.post0)\n",
      "Collecting pytz>=2020.1 (from pandas)\n",
      "  Obtaining dependency information for pytz>=2020.1 from https://files.pythonhosted.org/packages/9c/3d/a121f284241f08268b21359bd425f7d4825cffc5ac5cd0e1b3d82ffd2b10/pytz-2024.1-py2.py3-none-any.whl.metadata\n",
      "  Downloading pytz-2024.1-py2.py3-none-any.whl.metadata (22 kB)\n",
      "Collecting tzdata>=2022.7 (from pandas)\n",
      "  Obtaining dependency information for tzdata>=2022.7 from https://files.pythonhosted.org/packages/65/58/f9c9e6be752e9fcb8b6a0ee9fb87e6e7a1f6bcab2cdc73f02bb7ba91ada0/tzdata-2024.1-py2.py3-none-any.whl.metadata\n",
      "  Downloading tzdata-2024.1-py2.py3-none-any.whl.metadata (1.4 kB)\n",
      "Requirement already satisfied: six>=1.5 in c:\\users\\student\\appdata\\roaming\\python\\python312\\site-packages (from python-dateutil>=2.8.2->pandas) (1.16.0)\n",
      "Downloading pandas-2.2.2-cp312-cp312-win_amd64.whl (11.5 MB)\n",
      "   ---------------------------------------- 0.0/11.5 MB ? eta -:--:--\n",
      "   ---------------------------------------- 0.0/11.5 MB 1.9 MB/s eta 0:00:06\n",
      "   ---------------------------------------- 0.1/11.5 MB 1.3 MB/s eta 0:00:09\n",
      "   ---------------------------------------- 0.1/11.5 MB 1.3 MB/s eta 0:00:09\n",
      "   ---------------------------------------- 0.1/11.5 MB 656.4 kB/s eta 0:00:18\n",
      "    --------------------------------------- 0.2/11.5 MB 908.0 kB/s eta 0:00:13\n",
      "    --------------------------------------- 0.2/11.5 MB 915.1 kB/s eta 0:00:13\n",
      "    --------------------------------------- 0.2/11.5 MB 915.1 kB/s eta 0:00:13\n",
      "   - -------------------------------------- 0.3/11.5 MB 853.3 kB/s eta 0:00:14\n",
      "   - -------------------------------------- 0.5/11.5 MB 1.2 MB/s eta 0:00:10\n",
      "   - -------------------------------------- 0.5/11.5 MB 1.2 MB/s eta 0:00:10\n",
      "   -- ------------------------------------- 0.7/11.5 MB 1.3 MB/s eta 0:00:09\n",
      "   -- ------------------------------------- 0.8/11.5 MB 1.5 MB/s eta 0:00:07\n",
      "   --- ------------------------------------ 1.1/11.5 MB 1.8 MB/s eta 0:00:06\n",
      "   ---- ----------------------------------- 1.2/11.5 MB 1.8 MB/s eta 0:00:06\n",
      "   ----- ---------------------------------- 1.6/11.5 MB 2.3 MB/s eta 0:00:05\n",
      "   ------- -------------------------------- 2.2/11.5 MB 2.9 MB/s eta 0:00:04\n",
      "   ------- -------------------------------- 2.2/11.5 MB 2.8 MB/s eta 0:00:04\n",
      "   --------- ------------------------------ 2.8/11.5 MB 3.3 MB/s eta 0:00:03\n",
      "   ---------- ----------------------------- 3.0/11.5 MB 3.5 MB/s eta 0:00:03\n",
      "   ---------- ----------------------------- 3.0/11.5 MB 3.5 MB/s eta 0:00:03\n",
      "   ---------- ----------------------------- 3.0/11.5 MB 3.5 MB/s eta 0:00:03\n",
      "   ---------- ----------------------------- 3.0/11.5 MB 3.5 MB/s eta 0:00:03\n",
      "   ---------- ----------------------------- 3.0/11.5 MB 3.5 MB/s eta 0:00:03\n",
      "   ---------- ----------------------------- 3.0/11.5 MB 3.5 MB/s eta 0:00:03\n",
      "   ---------- ----------------------------- 3.0/11.5 MB 3.5 MB/s eta 0:00:03\n",
      "   ---------- ----------------------------- 3.0/11.5 MB 3.5 MB/s eta 0:00:03\n",
      "   ----------- ---------------------------- 3.3/11.5 MB 2.6 MB/s eta 0:00:04\n",
      "   ------------------- -------------------- 5.7/11.5 MB 4.3 MB/s eta 0:00:02\n",
      "   ---------------------- ----------------- 6.4/11.5 MB 4.7 MB/s eta 0:00:02\n",
      "   ----------------------- ---------------- 6.9/11.5 MB 4.8 MB/s eta 0:00:01\n",
      "   ------------------------- -------------- 7.4/11.5 MB 5.0 MB/s eta 0:00:01\n",
      "   -------------------------- ------------- 7.7/11.5 MB 5.1 MB/s eta 0:00:01\n",
      "   --------------------------- ------------ 8.0/11.5 MB 5.1 MB/s eta 0:00:01\n",
      "   ---------------------------- ----------- 8.2/11.5 MB 5.1 MB/s eta 0:00:01\n",
      "   ----------------------------- ---------- 8.4/11.5 MB 5.1 MB/s eta 0:00:01\n",
      "   ------------------------------ --------- 8.8/11.5 MB 5.2 MB/s eta 0:00:01\n",
      "   ------------------------------- -------- 9.1/11.5 MB 5.2 MB/s eta 0:00:01\n",
      "   -------------------------------- ------- 9.4/11.5 MB 5.2 MB/s eta 0:00:01\n",
      "   --------------------------------- ------ 9.7/11.5 MB 5.2 MB/s eta 0:00:01\n",
      "   ----------------------------------- ---- 10.1/11.5 MB 5.3 MB/s eta 0:00:01\n",
      "   ------------------------------------ --- 10.5/11.5 MB 6.0 MB/s eta 0:00:01\n",
      "   ------------------------------------- -- 10.8/11.5 MB 6.8 MB/s eta 0:00:01\n",
      "   ---------------------------------------  11.2/11.5 MB 7.0 MB/s eta 0:00:01\n",
      "   ---------------------------------------  11.5/11.5 MB 7.2 MB/s eta 0:00:01\n",
      "   ---------------------------------------  11.5/11.5 MB 7.2 MB/s eta 0:00:01\n",
      "   ---------------------------------------- 11.5/11.5 MB 6.7 MB/s eta 0:00:00\n",
      "Downloading numpy-2.1.0-cp312-cp312-win_amd64.whl (12.6 MB)\n",
      "   ---------------------------------------- 0.0/12.6 MB ? eta -:--:--\n",
      "    --------------------------------------- 0.2/12.6 MB 5.9 MB/s eta 0:00:03\n",
      "   - -------------------------------------- 0.4/12.6 MB 3.8 MB/s eta 0:00:04\n",
      "   - -------------------------------------- 0.6/12.6 MB 4.3 MB/s eta 0:00:03\n",
      "   -- ------------------------------------- 0.8/12.6 MB 4.5 MB/s eta 0:00:03\n",
      "   --- ------------------------------------ 1.1/12.6 MB 4.8 MB/s eta 0:00:03\n",
      "   ---- ----------------------------------- 1.3/12.6 MB 5.0 MB/s eta 0:00:03\n",
      "   ---- ----------------------------------- 1.5/12.6 MB 4.9 MB/s eta 0:00:03\n",
      "   ----- ---------------------------------- 1.8/12.6 MB 5.3 MB/s eta 0:00:03\n",
      "   ------ --------------------------------- 2.2/12.6 MB 5.3 MB/s eta 0:00:02\n",
      "   ------- -------------------------------- 2.4/12.6 MB 5.4 MB/s eta 0:00:02\n",
      "   -------- ------------------------------- 2.6/12.6 MB 5.4 MB/s eta 0:00:02\n",
      "   -------- ------------------------------- 2.8/12.6 MB 5.3 MB/s eta 0:00:02\n",
      "   --------- ------------------------------ 3.0/12.6 MB 5.1 MB/s eta 0:00:02\n",
      "   ---------- ----------------------------- 3.4/12.6 MB 5.4 MB/s eta 0:00:02\n",
      "   ----------- ---------------------------- 3.7/12.6 MB 5.5 MB/s eta 0:00:02\n",
      "   ------------ --------------------------- 4.1/12.6 MB 5.5 MB/s eta 0:00:02\n",
      "   -------------- ------------------------- 4.5/12.6 MB 5.7 MB/s eta 0:00:02\n",
      "   --------------- ------------------------ 4.9/12.6 MB 5.9 MB/s eta 0:00:02\n",
      "   ---------------- ----------------------- 5.2/12.6 MB 5.8 MB/s eta 0:00:02\n",
      "   ----------------- ---------------------- 5.6/12.6 MB 6.0 MB/s eta 0:00:02\n",
      "   ------------------ --------------------- 5.8/12.6 MB 6.0 MB/s eta 0:00:02\n",
      "   ------------------- -------------------- 6.0/12.6 MB 5.9 MB/s eta 0:00:02\n",
      "   ------------------- -------------------- 6.2/12.6 MB 5.9 MB/s eta 0:00:02\n",
      "   -------------------- ------------------- 6.5/12.6 MB 5.9 MB/s eta 0:00:02\n",
      "   -------------------- ------------------- 6.6/12.6 MB 5.9 MB/s eta 0:00:02\n",
      "   ---------------------- ----------------- 7.1/12.6 MB 5.9 MB/s eta 0:00:01\n",
      "   ----------------------- ---------------- 7.5/12.6 MB 6.0 MB/s eta 0:00:01\n",
      "   ------------------------- -------------- 7.9/12.6 MB 6.1 MB/s eta 0:00:01\n",
      "   -------------------------- ------------- 8.3/12.6 MB 6.2 MB/s eta 0:00:01\n",
      "   --------------------------- ------------ 8.7/12.6 MB 6.3 MB/s eta 0:00:01\n",
      "   ----------------------------- ---------- 9.1/12.6 MB 6.3 MB/s eta 0:00:01\n",
      "   ------------------------------ --------- 9.5/12.6 MB 6.3 MB/s eta 0:00:01\n",
      "   ------------------------------- -------- 9.7/12.6 MB 6.3 MB/s eta 0:00:01\n",
      "   ------------------------------- -------- 10.0/12.6 MB 6.3 MB/s eta 0:00:01\n",
      "   -------------------------------- ------- 10.3/12.6 MB 6.2 MB/s eta 0:00:01\n",
      "   --------------------------------- ------ 10.6/12.6 MB 6.4 MB/s eta 0:00:01\n",
      "   ---------------------------------- ----- 11.0/12.6 MB 6.5 MB/s eta 0:00:01\n",
      "   ------------------------------------ --- 11.5/12.6 MB 6.5 MB/s eta 0:00:01\n",
      "   ------------------------------------- -- 11.9/12.6 MB 6.7 MB/s eta 0:00:01\n",
      "   -------------------------------------- - 12.2/12.6 MB 6.7 MB/s eta 0:00:01\n",
      "   ---------------------------------------  12.6/12.6 MB 6.7 MB/s eta 0:00:01\n",
      "   ---------------------------------------  12.6/12.6 MB 6.7 MB/s eta 0:00:01\n",
      "   ---------------------------------------  12.6/12.6 MB 6.7 MB/s eta 0:00:01\n",
      "   ---------------------------------------- 12.6/12.6 MB 6.2 MB/s eta 0:00:00\n",
      "Downloading pytz-2024.1-py2.py3-none-any.whl (505 kB)\n",
      "   ---------------------------------------- 0.0/505.5 kB ? eta -:--:--\n",
      "   ------------------------- -------------- 327.7/505.5 kB 6.8 MB/s eta 0:00:01\n",
      "   --------------------------------------  501.8/505.5 kB 10.5 MB/s eta 0:00:01\n",
      "   --------------------------------------  501.8/505.5 kB 10.5 MB/s eta 0:00:01\n",
      "   ---------------------------------------- 505.5/505.5 kB 3.5 MB/s eta 0:00:00\n",
      "Downloading tzdata-2024.1-py2.py3-none-any.whl (345 kB)\n",
      "   ---------------------------------------- 0.0/345.4 kB ? eta -:--:--\n",
      "   --------------------------------------  337.9/345.4 kB 10.6 MB/s eta 0:00:01\n",
      "   --------------------------------------  337.9/345.4 kB 10.6 MB/s eta 0:00:01\n",
      "   --------------------------------------  337.9/345.4 kB 10.6 MB/s eta 0:00:01\n",
      "   --------------------------------------  337.9/345.4 kB 10.6 MB/s eta 0:00:01\n",
      "   --------------------------------------  337.9/345.4 kB 10.6 MB/s eta 0:00:01\n",
      "   ---------------------------------------- 345.4/345.4 kB 1.4 MB/s eta 0:00:00\n",
      "Installing collected packages: pytz, tzdata, numpy, pandas\n",
      "Successfully installed numpy-2.1.0 pandas-2.2.2 pytz-2024.1 tzdata-2024.1\n",
      "Note: you may need to restart the kernel to use updated packages.\n"
     ]
    },
    {
     "name": "stderr",
     "output_type": "stream",
     "text": [
      "  WARNING: The scripts f2py.exe and numpy-config.exe are installed in 'c:\\Users\\STUDENT\\AppData\\Local\\Programs\\Python\\Python312\\Scripts' which is not on PATH.\n",
      "  Consider adding this directory to PATH or, if you prefer to suppress this warning, use --no-warn-script-location.\n",
      "\n",
      "[notice] A new release of pip is available: 23.2.1 -> 24.2\n",
      "[notice] To update, run: python.exe -m pip install --upgrade pip\n"
     ]
    }
   ],
   "source": [
    "%pip install pandas"
   ]
  },
  {
   "cell_type": "code",
   "execution_count": 4,
   "metadata": {},
   "outputs": [],
   "source": [
    "import pandas as pd"
   ]
  },
  {
   "cell_type": "code",
   "execution_count": 6,
   "metadata": {},
   "outputs": [],
   "source": [
    "col_names = [\"duration\",\"protocol_type\",\"service\",\"flag\",\"src_bytes\",\n",
    "    \"dst_bytes\",\"land\",\"wrong_fragment\",\"urgent\",\"hot\",\"num_failed_logins\",\n",
    "    \"logged_in\",\"num_compromised\",\"root_shell\",\"su_attempted\",\"num_root\",\n",
    "    \"num_file_creations\",\"num_shells\",\"num_access_files\",\"num_outbound_cmds\",\n",
    "    \"is_host_login\",\"is_guest_login\",\"count\",\"srv_count\",\"serror_rate\",\n",
    "    \"srv_serror_rate\",\"rerror_rate\",\"srv_rerror_rate\",\"same_srv_rate\",\n",
    "    \"diff_srv_rate\",\"srv_diff_host_rate\",\"dst_host_count\",\"dst_host_srv_count\",\n",
    "    \"dst_host_same_srv_rate\",\"dst_host_diff_srv_rate\",\"dst_host_same_src_port_rate\",\n",
    "    \"dst_host_srv_diff_host_rate\",\"dst_host_serror_rate\",\"dst_host_srv_serror_rate\",\n",
    "    \"dst_host_rerror_rate\",\"dst_host_srv_rerror_rate\",\"label\"]"
   ]
  },
  {
   "cell_type": "code",
   "execution_count": 7,
   "metadata": {},
   "outputs": [],
   "source": [
    "train_data = pd.read_csv(\"https://raw.githubusercontent.com/merteroglu/NSL-KDD-Network-Instrusion-Detection/master/NSL_KDD_Train.csv\",header=None, names = col_names)\n",
    "test_data = pd.read_csv(\"https://raw.githubusercontent.com/merteroglu/NSL-KDD-Network-Instrusion-Detection/master/NSL_KDD_Test.csv\",header=None, names = col_names)"
   ]
  },
  {
   "cell_type": "code",
   "execution_count": 10,
   "metadata": {},
   "outputs": [
    {
     "data": {
      "text/plain": [
       "22544"
      ]
     },
     "execution_count": 10,
     "metadata": {},
     "output_type": "execute_result"
    }
   ],
   "source": [
    "len(train_data)\n",
    "len(test_data)"
   ]
  },
  {
   "cell_type": "code",
   "execution_count": null,
   "metadata": {},
   "outputs": [],
   "source": []
  }
 ],
 "metadata": {
  "kernelspec": {
   "display_name": "Python 3",
   "language": "python",
   "name": "python3"
  },
  "language_info": {
   "codemirror_mode": {
    "name": "ipython",
    "version": 3
   },
   "file_extension": ".py",
   "mimetype": "text/x-python",
   "name": "python",
   "nbconvert_exporter": "python",
   "pygments_lexer": "ipython3",
   "version": "3.12.0"
  }
 },
 "nbformat": 4,
 "nbformat_minor": 2
}
